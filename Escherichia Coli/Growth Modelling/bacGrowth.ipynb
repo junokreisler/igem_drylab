{
 "cells": [
  {
   "cell_type": "markdown",
   "id": "a6c3db9c-0c03-48cd-91c5-f8f0cee5f2bc",
   "metadata": {},
   "source": [
    "Simple Logistic Bacterial Growth and Death"
   ]
  },
  {
   "cell_type": "code",
   "execution_count": null,
   "id": "298caaad-bd6a-4a30-889f-5cb1e3bdc828",
   "metadata": {
    "tags": []
   },
   "outputs": [],
   "source": [
    "from pylab import *"
   ]
  },
  {
   "cell_type": "markdown",
   "id": "7de43c12-7afe-4cca-8741-d634263ddf95",
   "metadata": {},
   "source": [
    "Variables K,D,F for growth rates"
   ]
  },
  {
   "cell_type": "code",
   "execution_count": 6,
   "id": "282d81d5-830e-442b-b18b-ffe102454f00",
   "metadata": {
    "tags": []
   },
   "outputs": [],
   "source": [
    "nLog = 25\n",
    "nDeath = 42\n",
    "nTot = nLog + nDeath\n",
    "\n",
    "dt = 10\n",
    "K = 8e9\n",
    "D = 0.33\n",
    "F = 3e5\n",
    "\n",
    "E = zeros(nTot)\n",
    "t = zeros(nTot)\n",
    "E[0] = 10000"
   ]
  },
  {
   "cell_type": "raw",
   "id": "1d60556e-f51d-4f9c-b4e3-0f2690f0d7b7",
   "metadata": {},
   "source": [
    "log and death loops"
   ]
  },
  {
   "cell_type": "code",
   "execution_count": 7,
   "id": "0f6b1f56-49ce-4991-b934-972217a35971",
   "metadata": {},
   "outputs": [],
   "source": [
    "\n",
    "for n in range(1, nLog):\n",
    "    E[n] = E[n-1] + (1 - E[n-1]/K) * E[n-1]\n",
    "    t[n] = t[n-1] + dt\n",
    "\n",
    "for n in range( nLog, nTot):\n",
    "    E[n] = E[n-1] - D*(E[n-1] - F)\n",
    "    t[n] = t[n-1] + dt\n"
   ]
  },
  {
   "cell_type": "raw",
   "id": "00dd59df-403f-4551-9688-f1c93be812c7",
   "metadata": {},
   "source": [
    "output"
   ]
  },
  {
   "cell_type": "code",
   "execution_count": 8,
   "id": "c1fbf423-7100-4d74-8e78-6937d2e4f304",
   "metadata": {},
   "outputs": [
    {
     "data": {
      "image/png": "[encoded data removed]",
      "text/plain": [
       "<Figure size 432x288 with 1 Axes>"
      ]
     },
     "metadata": {
      "needs_background": "light"
     },
     "output_type": "display_data"
    }
   ],
   "source": [
    "plot(t, E, 'o-')\n",
    "title('Logistic Bacterial Growth and Death')\n",
    "yscale('log')\n",
    "xlabel('Miutes')\n",
    "ylabel('Cells')\n",
    "show()"
   ]
  },
  {
   "cell_type": "code",
   "execution_count": null,
   "id": "f615a6a6-08f8-43a2-9fff-e14dc6dec359",
   "metadata": {},
   "outputs": [],
   "source": []
  },
  {
   "cell_type": "code",
   "execution_count": null,
   "id": "d9a6d2d3-bfce-4330-b2ce-90646be0dc79",
   "metadata": {},
   "outputs": [],
   "source": []
  },
  {
   "cell_type": "code",
   "execution_count": null,
   "id": "ac54edb5-94cf-4a0c-b340-b051c8ece341",
   "metadata": {},
   "outputs": [],
   "source": []
  },
  {
   "cell_type": "code",
   "execution_count": null,
   "id": "d67e142c-1f5b-451a-9dd2-ad2c9469da8d",
   "metadata": {},
   "outputs": [],
   "source": []
  },
  {
   "cell_type": "code",
   "execution_count": null,
   "id": "c697454e-ff2d-424f-93d0-fd9fd13de76d",
   "metadata": {},
   "outputs": [],
   "source": []
  },
  {
   "cell_type": "code",
   "execution_count": null,
   "id": "99174fe4-fb99-4ab9-96c3-e2cf58738ad3",
   "metadata": {},
   "outputs": [],
   "source": []
  },
  {
   "cell_type": "code",
   "execution_count": null,
   "id": "d3aecf19-560a-4244-9b57-9cf1af3dec92",
   "metadata": {},
   "outputs": [],
   "source": []
  },
  {
   "cell_type": "code",
   "execution_count": null,
   "id": "089f827b-2df4-4607-b8af-be2bfc1aff21",
   "metadata": {},
   "outputs": [],
   "source": []
  },
  {
   "cell_type": "code",
   "execution_count": null,
   "id": "fdc5d166-77c2-4ccb-8e28-b26a94d7ff1e",
   "metadata": {},
   "outputs": [],
   "source": []
  },
  {
   "cell_type": "code",
   "execution_count": null,
   "id": "c7d3fefe-146f-44ab-91ce-73a8bd1f2715",
   "metadata": {},
   "outputs": [],
   "source": []
  },
  {
   "cell_type": "code",
   "execution_count": null,
   "id": "7a7fcbf9-dde9-414f-8d5e-012bf7ac9326",
   "metadata": {},
   "outputs": [],
   "source": []
  },
  {
   "cell_type": "code",
   "execution_count": null,
   "id": "91e07798-f8d4-495c-a733-0358aeee7259",
   "metadata": {},
   "outputs": [],
   "source": []
  },
  {
   "cell_type": "code",
   "execution_count": null,
   "id": "827a68b5-b0a3-4747-9b3d-52e15fdb9f9c",
   "metadata": {},
   "outputs": [],
   "source": []
  },
  {
   "cell_type": "code",
   "execution_count": null,
   "id": "4ecd44d7-e7a3-46da-b723-6d0b3ebea594",
   "metadata": {},
   "outputs": [],
   "source": []
  },
  {
   "cell_type": "code",
   "execution_count": null,
   "id": "4303e840-6c97-4c4b-83ca-8127d2064084",
   "metadata": {},
   "outputs": [],
   "source": []
  },
  {
   "cell_type": "code",
   "execution_count": null,
   "id": "ad0629c4-c1b7-49e8-b91e-aac62b2d95d7",
   "metadata": {},
   "outputs": [],
   "source": []
  },
  {
   "cell_type": "code",
   "execution_count": null,
   "id": "a148686c-2219-4f4a-9d9c-a3cad6c29c05",
   "metadata": {},
   "outputs": [],
   "source": []
  },
  {
   "cell_type": "code",
   "execution_count": null,
   "id": "e06c9f2c-797a-485c-9b01-207454488928",
   "metadata": {},
   "outputs": [],
   "source": []
  },
  {
   "cell_type": "code",
   "execution_count": null,
   "id": "04e0cd5f-1f47-4c57-b789-5bc8f71ba4a6",
   "metadata": {},
   "outputs": [],
   "source": []
  },
  {
   "cell_type": "code",
   "execution_count": null,
   "id": "38f827e8-474d-4174-a306-8686c650f205",
   "metadata": {},
   "outputs": [],
   "source": []
  },
  {
   "cell_type": "code",
   "execution_count": null,
   "id": "ddcc3b2f-7f99-48ca-8282-d8c28832799b",
   "metadata": {},
   "outputs": [],
   "source": []
  }
 ],
 "metadata": {
  "kernelspec": {
   "display_name": "anaconda-2022.05-py39",
   "language": "python",
   "name": "conda-env-anaconda-2022.05-py39-py"
  },
  "language_info": {
   "codemirror_mode": {
    "name": "ipython",
    "version": 3
   },
   "file_extension": ".py",
   "mimetype": "text/x-python",
   "name": "python",
   "nbconvert_exporter": "python",
   "pygments_lexer": "ipython3",
   "version": "3.9.12"
  }
 },
 "nbformat": 4,
 "nbformat_minor": 5
}
